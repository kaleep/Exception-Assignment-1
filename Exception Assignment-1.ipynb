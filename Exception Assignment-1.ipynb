{
 "cells": [
  {
   "cell_type": "markdown",
   "id": "f4bd710b-e682-45ef-b551-f11e07caa549",
   "metadata": {},
   "source": [
    "Q.1. what is an exception in python? write the difference between exception and syntax errors.\n",
    "\n",
    "\n",
    "Ans:\n",
    "In Python, an exception is an event that occurs during the execution of a program, which disrupts the normal flow of the program's instructions. When an exceptional situation arises, Python raises an exception, which can be caught and handled by the program.\n",
    "\n",
    "Exceptions can occur due to various reasons, such as:\n",
    "\n",
    "Errors in program logic or calculations.\n",
    "External factors like input/output operations or network connectivity.\n",
    "Resource constraints like memory or disk space issues.\n",
    "Operating system errors or other system-level issues.\n",
    "When an exception is raised and not properly handled, it results in the termination of the program and displays an error message. However, Python provides mechanisms to catch and handle exceptions, allowing developers to gracefully deal with errors and control the program flow.\n",
    "\n",
    "Syntax errors, on the other hand, are errors that occur due to incorrect syntax or grammar in the code. They are detected by the Python interpreter during the parsing phase before the program is executed. Syntax errors prevent the program from running and must be fixed before the code can be executed successfully.\n",
    "\n",
    "Here are the key differences between exceptions and syntax errors:\n",
    "\n",
    "Occurrence: Exceptions occur during the execution of a program when an error or exceptional situation arises. Syntax errors occur during the parsing phase, even before the program starts executing.\n",
    "\n",
    "Detection: Exceptions are detected at runtime when the exceptional condition occurs. Syntax errors are detected by the Python interpreter before runtime, during the parsing phase.\n",
    "\n",
    "Handling: Exceptions can be caught and handled using try-except blocks, allowing the program to gracefully handle errors and continue execution. Syntax errors need to be fixed in the code before the program can be executed successfully.\n",
    "\n",
    "Impact: Exceptions disrupt the normal flow of the program but can be handled to prevent program termination. Syntax errors prevent the program from running altogether until they are fixed."
   ]
  },
  {
   "cell_type": "markdown",
   "id": "3b298a7a-ac36-4a8a-8547-5514b96b7fe2",
   "metadata": {},
   "source": [
    "\n",
    "Q.2. What happens when an exception is not handled? Explalin with example.\n",
    "\n",
    "\n",
    "\n",
    "Ans.\n",
    "When an exception is not handled in Python, it results in the termination of the program and displays an error message, \n",
    "indicating the type of exception that occurred and a traceback that shows the sequence of function calls leading to the exception.\n",
    "This behavior is known as an \"unhandled exception.\"\n",
    "\n",
    "Here's an example to illustrate what happens when an exception is not handled:\n",
    "\n"
   ]
  },
  {
   "cell_type": "code",
   "execution_count": 2,
   "id": "090ced42-19c7-4074-8c79-5a543601ff82",
   "metadata": {},
   "outputs": [
    {
     "name": "stdout",
     "output_type": "stream",
     "text": [
      "Error: Cannot divide by zero.\n"
     ]
    },
    {
     "ename": "ZeroDivisionError",
     "evalue": "division by zero",
     "output_type": "error",
     "traceback": [
      "\u001b[0;31m---------------------------------------------------------------------------\u001b[0m",
      "\u001b[0;31mZeroDivisionError\u001b[0m                         Traceback (most recent call last)",
      "Cell \u001b[0;32mIn[2], line 13\u001b[0m\n\u001b[1;32m     10\u001b[0m     \u001b[38;5;28mprint\u001b[39m(\u001b[38;5;124m\"\u001b[39m\u001b[38;5;124mError: Cannot divide by zero.\u001b[39m\u001b[38;5;124m\"\u001b[39m)\n\u001b[1;32m     12\u001b[0m \u001b[38;5;66;03m# Example 2: Not handling the exception\u001b[39;00m\n\u001b[0;32m---> 13\u001b[0m result \u001b[38;5;241m=\u001b[39m \u001b[43mdivide_numbers\u001b[49m\u001b[43m(\u001b[49m\u001b[38;5;241;43m10\u001b[39;49m\u001b[43m,\u001b[49m\u001b[43m \u001b[49m\u001b[38;5;241;43m0\u001b[39;49m\u001b[43m)\u001b[49m\n\u001b[1;32m     14\u001b[0m \u001b[38;5;28mprint\u001b[39m(\u001b[38;5;124m\"\u001b[39m\u001b[38;5;124mResult:\u001b[39m\u001b[38;5;124m\"\u001b[39m, result)\n",
      "Cell \u001b[0;32mIn[2], line 2\u001b[0m, in \u001b[0;36mdivide_numbers\u001b[0;34m(a, b)\u001b[0m\n\u001b[1;32m      1\u001b[0m \u001b[38;5;28;01mdef\u001b[39;00m \u001b[38;5;21mdivide_numbers\u001b[39m(a, b):\n\u001b[0;32m----> 2\u001b[0m     result \u001b[38;5;241m=\u001b[39m \u001b[43ma\u001b[49m\u001b[43m \u001b[49m\u001b[38;5;241;43m/\u001b[39;49m\u001b[43m \u001b[49m\u001b[43mb\u001b[49m\n\u001b[1;32m      3\u001b[0m     \u001b[38;5;28;01mreturn\u001b[39;00m result\n",
      "\u001b[0;31mZeroDivisionError\u001b[0m: division by zero"
     ]
    }
   ],
   "source": [
    "def divide_numbers(a, b):\n",
    "    result = a / b\n",
    "    return result\n",
    "\n",
    "# Example 1: Handling the exception\n",
    "try:\n",
    "    result = divide_numbers(10, 0)\n",
    "    print(\"Result:\", result)\n",
    "except ZeroDivisionError:\n",
    "    print(\"Error: Cannot divide by zero.\")\n",
    "\n",
    "# Example 2: Not handling the exception\n",
    "result = divide_numbers(10, 0)\n",
    "print(\"Result:\", result)"
   ]
  },
  {
   "cell_type": "markdown",
   "id": "2b6d551d-59ac-4ffb-8618-887affe9d909",
   "metadata": {},
   "source": [
    "In this example, we have a function called divide_numbers() that takes two numbers as input and performs division. The second parameter is set to 0, which would result in a ZeroDivisionError when attempting to divide by zero.\n",
    "\n",
    "In the first example, we use a try-except block to handle the ZeroDivisionError. If the exception occurs, the code inside the except block is executed, and the error message \"Error: Cannot divide by zero\" is printed. The program continues to run after handling the exception."
   ]
  },
  {
   "cell_type": "markdown",
   "id": "5c292f10-b167-4c5c-82e3-8610f4c59346",
   "metadata": {},
   "source": [
    "Q.3. Which python statements are used to catch and handle exceptions? Explain with an example\n",
    "\n",
    "Ans.\n",
    "\n",
    "In Python, the try-except statement is used to catch and handle exceptions. The general syntax of a try-except block is as follows:"
   ]
  },
  {
   "cell_type": "code",
   "execution_count": 5,
   "id": "f0c7067f-b5d5-40c3-965d-15340937b3b7",
   "metadata": {},
   "outputs": [
    {
     "name": "stdout",
     "output_type": "stream",
     "text": [
      "String can not be added with an integer\n"
     ]
    }
   ],
   "source": [
    "try:\n",
    "    a=1\n",
    "    b='s'\n",
    "    c=a+b\n",
    "except TypeError as ex:\n",
    "    print ('String can not be added with an integer')\n",
    "    "
   ]
  },
  {
   "cell_type": "markdown",
   "id": "f23714e1-2068-4720-b587-d71750a9b90c",
   "metadata": {},
   "source": [
    "Q.4 Explain with an example\n",
    "try \n",
    "else\n",
    "\n",
    "Ans.\n",
    "In Python, the try-else statement is used to define a block of code that should be executed if no exceptions are raised within the try block. Here\n",
    "is the example.\n",
    "\n"
   ]
  },
  {
   "cell_type": "code",
   "execution_count": 7,
   "id": "f05d5348-9e2d-42ed-b13b-024685a0c00b",
   "metadata": {},
   "outputs": [
    {
     "name": "stdout",
     "output_type": "stream",
     "text": [
      "Result: 5.0\n",
      "Error: Cannot divide by zero.\n"
     ]
    }
   ],
   "source": [
    "def divide_numbers(a, b):\n",
    "    try:\n",
    "        result = a / b\n",
    "    except ZeroDivisionError:\n",
    "        print(\"Error: Cannot divide by zero.\")\n",
    "    else:\n",
    "        print(\"Result:\", result)\n",
    "\n",
    "# Example 1: No exception occurs\n",
    "divide_numbers(10, 2)\n",
    "\n",
    "# Example 2: Exception occurs\n",
    "divide_numbers(10, 0)"
   ]
  },
  {
   "cell_type": "markdown",
   "id": "c5eb265b-3d4e-4c68-b2e5-74590837dc66",
   "metadata": {},
   "source": [
    "Q.4 Explain with an example Finally\n",
    "\n",
    "Ans.\n",
    "\n",
    "In Python, the finally statement is used to define a block of code that should be executed regardless of whether an exception is raised or not. The example of the try-finally statement is as follows:"
   ]
  },
  {
   "cell_type": "code",
   "execution_count": 8,
   "id": "ec734e8f-27d2-45f1-9855-c69ce9854eef",
   "metadata": {},
   "outputs": [
    {
     "name": "stdout",
     "output_type": "stream",
     "text": [
      "Result: 5.0\n",
      "Division operation complete.\n",
      "Error: Cannot divide by zero.\n",
      "Division operation complete.\n"
     ]
    }
   ],
   "source": [
    "def divide_numbers(a, b):\n",
    "    try:\n",
    "        result = a / b\n",
    "        print(\"Result:\", result)\n",
    "    except ZeroDivisionError:\n",
    "        print(\"Error: Cannot divide by zero.\")\n",
    "    finally:\n",
    "        print(\"Division operation complete.\")\n",
    "\n",
    "# Example 1: No exception occurs\n",
    "divide_numbers(10, 2)\n",
    "\n",
    "# Example 2: Exception occurs\n",
    "divide_numbers(10, 0)"
   ]
  },
  {
   "cell_type": "markdown",
   "id": "b7e4ae2e-913a-48d0-8daf-5f64e6037c13",
   "metadata": {},
   "source": [
    "Q.4 Explain with an example raise\n",
    "\n",
    "Ans. In Python, the raise statement is used to explicitly raise an exception. It allows you to generate and throw custom exceptions or propagate existing exceptions. The example of the raise statement is as follows:"
   ]
  },
  {
   "cell_type": "code",
   "execution_count": 9,
   "id": "6049c5a4-daee-4303-85d9-1bbec8ba18e1",
   "metadata": {},
   "outputs": [
    {
     "name": "stdout",
     "output_type": "stream",
     "text": [
      "Error: Factorial is not defined for negative numbers.\n"
     ]
    }
   ],
   "source": [
    "def calculate_factorial(n):\n",
    "    if n < 0:\n",
    "        raise ValueError(\"Factorial is not defined for negative numbers.\")\n",
    "    elif n == 0:\n",
    "        return 1\n",
    "    else:\n",
    "        factorial = 1\n",
    "        for i in range(1, n + 1):\n",
    "            factorial *= i\n",
    "        return factorial\n",
    "\n",
    "try:\n",
    "    result = calculate_factorial(-5)\n",
    "    print(\"Factorial:\", result)\n",
    "except ValueError as e:\n",
    "    print(\"Error:\", str(e))"
   ]
  },
  {
   "cell_type": "markdown",
   "id": "40ab9e3c-be87-462c-9541-424e46ac7e9a",
   "metadata": {},
   "source": [
    "Q.5. what are the custom exception? why do you need custom exception? explain with an example.\n",
    "\n",
    "Ans.\n",
    "Custom exceptions in Python are user-defined exceptions that allow you to create and raise your own exception types based on specific error conditions or requirements in your code. You can define custom exception classes by inheriting from the built-in Exception class or any of its subclasses.\n",
    "\n",
    "You may need custom exceptions for the following reasons:\n",
    "\n",
    "Specific Error Handling: Custom exceptions help you differentiate between different types of errors or exceptional situations in your code. By creating custom exception classes, you can provide more specific error messages and handle those exceptions separately.\n",
    "\n",
    "Code Readability and Maintainability: Custom exceptions enhance code readability and maintainability by clearly indicating the intent and the reason for the exception. They make the code more self-explanatory and facilitate error handling and debugging.\n",
    "\n",
    "Application-Specific Logic: In some cases, your application may have unique error conditions or business rules that are not adequately covered by built-in exceptions. Custom exceptions allow you to address these specific requirements and handle them appropriately.\n",
    "\n",
    "Here's an example that demonstrates the use of custom exceptions:"
   ]
  },
  {
   "cell_type": "code",
   "execution_count": 11,
   "id": "8dd06ad9-e90f-462f-96cb-147d36b22b47",
   "metadata": {},
   "outputs": [],
   "source": [
    "class WithdrawalError(Exception):\n",
    "    pass\n",
    "\n",
    "class InsufficientFundsError(WithdrawalError):\n",
    "    def __init__(self, amount, balance):\n",
    "        self.amount = amount\n",
    "        self.balance = balance\n",
    "        message = f\"Insufficient funds. Attempted to withdraw {amount}. Balance available: {balance}.\"\n",
    "        super().__init__(message)\n",
    "\n",
    "class Account:\n",
    "    def __init__(self, balance):\n",
    "        self.balance = balance\n",
    "    \n",
    "    def withdraw(self, amount):\n",
    "        if amount > self.balance:\n",
    "            raise InsufficientFundsError(amount, self.balance)\n",
    "        else:\n",
    "            self.balance -= amount\n",
    "            print(f\"Withdrawal successful. New balance: {self.balance}.\")"
   ]
  },
  {
   "cell_type": "markdown",
   "id": "b67a5f5e-2144-4b4f-81fd-08a85bb2741c",
   "metadata": {},
   "source": [
    "In this example, we define a custom exception hierarchy for a banking application. The base exception class is WithdrawalError, and we create a subclass called InsufficientFundsError to represent the scenario when a withdrawal amount exceeds the available balance.\n",
    "\n",
    "The InsufficientFundsError class has an initializer that takes the attempted amount and the current balance as arguments. It constructs a meaningful error message using these values.\n",
    "\n",
    "The Account class represents a bank account, and it has a withdraw() method that performs a withdrawal operation. If the withdrawal amount is greater than the available balance, it raises the InsufficientFundsError exception.\n",
    "\n",
    "By utilizing custom exceptions, we can handle different types of withdrawal errors separately, such as InsufficientFundsError, and provide detailed error messages specific to each situation. This allows for more precise error handling and better communication of exceptional scenarios within the application."
   ]
  },
  {
   "cell_type": "code",
   "execution_count": null,
   "id": "937b2d3b-3e52-4d61-b0c3-5d4907955dd7",
   "metadata": {},
   "outputs": [],
   "source": [
    "Q."
   ]
  }
 ],
 "metadata": {
  "kernelspec": {
   "display_name": "Python 3 (ipykernel)",
   "language": "python",
   "name": "python3"
  },
  "language_info": {
   "codemirror_mode": {
    "name": "ipython",
    "version": 3
   },
   "file_extension": ".py",
   "mimetype": "text/x-python",
   "name": "python",
   "nbconvert_exporter": "python",
   "pygments_lexer": "ipython3",
   "version": "3.10.8"
  }
 },
 "nbformat": 4,
 "nbformat_minor": 5
}
